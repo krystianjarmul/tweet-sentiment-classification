{
  "nbformat": 4,
  "nbformat_minor": 0,
  "metadata": {
    "accelerator": "GPU",
    "colab": {
      "name": "sentiment_classification.ipynb",
      "provenance": [],
      "collapsed_sections": [],
      "authorship_tag": "ABX9TyNgQ35Dh1AxPsNdoJmV2FCi",
      "include_colab_link": true
    },
    "kernelspec": {
      "display_name": "Python 3",
      "name": "python3"
    },
    "language_info": {
      "name": "python"
    }
  },
  "cells": [
    {
      "cell_type": "markdown",
      "metadata": {
        "id": "view-in-github",
        "colab_type": "text"
      },
      "source": [
        "<a href=\"https://colab.research.google.com/github/krystianjarmul/tweet-sentiment-classification/blob/main/tweet-sentiment_classification.ipynb\" target=\"_parent\"><img src=\"https://colab.research.google.com/assets/colab-badge.svg\" alt=\"Open In Colab\"/></a>"
      ]
    },
    {
      "cell_type": "code",
      "metadata": {
        "colab": {
          "base_uri": "https://localhost:8080/"
        },
        "id": "yhN87d2TxEpx",
        "outputId": "1f0a3790-e353-4824-898d-f507c65ac972"
      },
      "source": [
        "# Download data\n",
        "!gdown --id 1BnUfDWvSGooNDgNZFAO54TLllU-WubPE"
      ],
      "execution_count": 39,
      "outputs": [
        {
          "output_type": "stream",
          "name": "stdout",
          "text": [
            "Downloading...\n",
            "From: https://drive.google.com/uc?id=1BnUfDWvSGooNDgNZFAO54TLllU-WubPE\n",
            "To: /content/Data_tweets.csv\n",
            "\r0.00B [00:00, ?B/s]\r4.30MB [00:00, 137MB/s]\n"
          ]
        }
      ]
    },
    {
      "cell_type": "code",
      "metadata": {
        "id": "unENPKXk8QDJ"
      },
      "source": [
        "from __future__ import annotations\n",
        "from string import punctuation\n",
        "import os\n",
        "\n",
        "import numpy as np\n",
        "import pandas as pd\n",
        "import spacy\n",
        "from spacy.lang.en.stop_words import STOP_WORDS\n",
        "from sklearn.model_selection import train_test_split\n",
        "from sklearn.pipeline import Pipeline\n",
        "from sklearn.feature_extraction.text import TfidfVectorizer\n",
        "from sklearn.svm import SVC\n",
        "from sklearn.base import BaseEstimator, TransformerMixin\n",
        "from sklearn.externals import joblib\n",
        "from sklearn.metrics import (\n",
        "    confusion_matrix,\n",
        "    classification_report,\n",
        ")\n",
        "\n",
        "np.random.seed(42)"
      ],
      "execution_count": 40,
      "outputs": []
    },
    {
      "cell_type": "code",
      "metadata": {
        "id": "0icuZ5FhzSVR"
      },
      "source": [
        "# Load English pipeline optimized for CPU\n",
        "os.system(\"python -m spacy download en_core_web_sm\")\n",
        "nlp = spacy.load(\"en_core_web_sm\")\n",
        "stopwords = list(STOP_WORDS)"
      ],
      "execution_count": 41,
      "outputs": []
    },
    {
      "cell_type": "code",
      "metadata": {
        "id": "i6HIGJarwZhw"
      },
      "source": [
        "class Preprocessor(BaseEstimator, TransformerMixin):\n",
        "    def fit(self, X, y=None):\n",
        "        return self\n",
        "\n",
        "    def transform(self, X, y=None):\n",
        "        X_ = X.copy()\n",
        "        X_ = X_.map(lambda row: self.preprocess(row))\n",
        "        return X_\n",
        "\n",
        "    def preprocess(self, tweet):\n",
        "        doc = nlp(tweet)\n",
        "        tokens = []\n",
        "        for token in doc:\n",
        "            if token.lemma_ != '-PRON-':\n",
        "                temp = token.lemma_.lower().strip()\n",
        "            else:\n",
        "                temp = token.lower_\n",
        "            tokens.append(temp)\n",
        "\n",
        "        clean_tokens = []\n",
        "        for token in tokens:\n",
        "            if token not in punctuation and token not in stopwords:\n",
        "                clean_tokens.append(token)\n",
        "\n",
        "        return ' '.join(tokens)\n"
      ],
      "execution_count": 42,
      "outputs": []
    },
    {
      "cell_type": "code",
      "metadata": {
        "colab": {
          "base_uri": "https://localhost:8080/",
          "height": 204
        },
        "id": "8tGHd0hHwkJe",
        "outputId": "85fed401-c309-4105-967d-abbfec839391"
      },
      "source": [
        "# Load raw data\n",
        "data = pd.read_csv('/content/Data_tweets.csv', header=None)\n",
        "data.head()"
      ],
      "execution_count": 43,
      "outputs": [
        {
          "output_type": "execute_result",
          "data": {
            "text/html": [
              "<div>\n",
              "<style scoped>\n",
              "    .dataframe tbody tr th:only-of-type {\n",
              "        vertical-align: middle;\n",
              "    }\n",
              "\n",
              "    .dataframe tbody tr th {\n",
              "        vertical-align: top;\n",
              "    }\n",
              "\n",
              "    .dataframe thead th {\n",
              "        text-align: right;\n",
              "    }\n",
              "</style>\n",
              "<table border=\"1\" class=\"dataframe\">\n",
              "  <thead>\n",
              "    <tr style=\"text-align: right;\">\n",
              "      <th></th>\n",
              "      <th>0</th>\n",
              "      <th>1</th>\n",
              "      <th>2</th>\n",
              "      <th>3</th>\n",
              "      <th>4</th>\n",
              "      <th>5</th>\n",
              "      <th>6</th>\n",
              "    </tr>\n",
              "  </thead>\n",
              "  <tbody>\n",
              "    <tr>\n",
              "      <th>0</th>\n",
              "      <td>0</td>\n",
              "      <td>0</td>\n",
              "      <td>2068921155</td>\n",
              "      <td>Sun Jun 07 14:56:42 PDT 2009</td>\n",
              "      <td>NO_QUERY</td>\n",
              "      <td>smiley_sophie</td>\n",
              "      <td>my arm still hurts from when i pulled it yeste...</td>\n",
              "    </tr>\n",
              "    <tr>\n",
              "      <th>1</th>\n",
              "      <td>1</td>\n",
              "      <td>4</td>\n",
              "      <td>2065871668</td>\n",
              "      <td>Sun Jun 07 09:27:21 PDT 2009</td>\n",
              "      <td>NO_QUERY</td>\n",
              "      <td>ImmaChocoholic</td>\n",
              "      <td>I have so much to do outside! Been looking at ...</td>\n",
              "    </tr>\n",
              "    <tr>\n",
              "      <th>2</th>\n",
              "      <td>2</td>\n",
              "      <td>0</td>\n",
              "      <td>1835774749</td>\n",
              "      <td>Mon May 18 06:43:27 PDT 2009</td>\n",
              "      <td>NO_QUERY</td>\n",
              "      <td>drmomentum</td>\n",
              "      <td>@AbsolutSara Yes, I knew about the clusterfark...</td>\n",
              "    </tr>\n",
              "    <tr>\n",
              "      <th>3</th>\n",
              "      <td>3</td>\n",
              "      <td>0</td>\n",
              "      <td>1967121891</td>\n",
              "      <td>Fri May 29 19:00:46 PDT 2009</td>\n",
              "      <td>NO_QUERY</td>\n",
              "      <td>sweetsheilx</td>\n",
              "      <td>Just woke up and i feel relieved Haha now i ha...</td>\n",
              "    </tr>\n",
              "    <tr>\n",
              "      <th>4</th>\n",
              "      <td>4</td>\n",
              "      <td>4</td>\n",
              "      <td>1695846172</td>\n",
              "      <td>Mon May 04 07:04:29 PDT 2009</td>\n",
              "      <td>NO_QUERY</td>\n",
              "      <td>monmariej</td>\n",
              "      <td>LOVING the hot weather forecast for the rest o...</td>\n",
              "    </tr>\n",
              "  </tbody>\n",
              "</table>\n",
              "</div>"
            ],
            "text/plain": [
              "   0  1  ...               5                                                  6\n",
              "0  0  0  ...   smiley_sophie  my arm still hurts from when i pulled it yeste...\n",
              "1  1  4  ...  ImmaChocoholic  I have so much to do outside! Been looking at ...\n",
              "2  2  0  ...      drmomentum  @AbsolutSara Yes, I knew about the clusterfark...\n",
              "3  3  0  ...     sweetsheilx  Just woke up and i feel relieved Haha now i ha...\n",
              "4  4  4  ...       monmariej  LOVING the hot weather forecast for the rest o...\n",
              "\n",
              "[5 rows x 7 columns]"
            ]
          },
          "metadata": {},
          "execution_count": 43
        }
      ]
    },
    {
      "cell_type": "code",
      "metadata": {
        "colab": {
          "base_uri": "https://localhost:8080/",
          "height": 204
        },
        "id": "lS28Es6xykwV",
        "outputId": "075e96fa-1ad4-443c-dfa7-b5693082360c"
      },
      "source": [
        "# Select important columns from raw data and name them\n",
        "data = pd.read_csv('/content/Data_tweets.csv', header=None)\n",
        "df = data[[6, 1]].rename(columns={6: \"Tweet\", 1: \"Sentiment\"})\n",
        "df.head()"
      ],
      "execution_count": 44,
      "outputs": [
        {
          "output_type": "execute_result",
          "data": {
            "text/html": [
              "<div>\n",
              "<style scoped>\n",
              "    .dataframe tbody tr th:only-of-type {\n",
              "        vertical-align: middle;\n",
              "    }\n",
              "\n",
              "    .dataframe tbody tr th {\n",
              "        vertical-align: top;\n",
              "    }\n",
              "\n",
              "    .dataframe thead th {\n",
              "        text-align: right;\n",
              "    }\n",
              "</style>\n",
              "<table border=\"1\" class=\"dataframe\">\n",
              "  <thead>\n",
              "    <tr style=\"text-align: right;\">\n",
              "      <th></th>\n",
              "      <th>Tweet</th>\n",
              "      <th>Sentiment</th>\n",
              "    </tr>\n",
              "  </thead>\n",
              "  <tbody>\n",
              "    <tr>\n",
              "      <th>0</th>\n",
              "      <td>my arm still hurts from when i pulled it yeste...</td>\n",
              "      <td>0</td>\n",
              "    </tr>\n",
              "    <tr>\n",
              "      <th>1</th>\n",
              "      <td>I have so much to do outside! Been looking at ...</td>\n",
              "      <td>4</td>\n",
              "    </tr>\n",
              "    <tr>\n",
              "      <th>2</th>\n",
              "      <td>@AbsolutSara Yes, I knew about the clusterfark...</td>\n",
              "      <td>0</td>\n",
              "    </tr>\n",
              "    <tr>\n",
              "      <th>3</th>\n",
              "      <td>Just woke up and i feel relieved Haha now i ha...</td>\n",
              "      <td>0</td>\n",
              "    </tr>\n",
              "    <tr>\n",
              "      <th>4</th>\n",
              "      <td>LOVING the hot weather forecast for the rest o...</td>\n",
              "      <td>4</td>\n",
              "    </tr>\n",
              "  </tbody>\n",
              "</table>\n",
              "</div>"
            ],
            "text/plain": [
              "                                               Tweet  Sentiment\n",
              "0  my arm still hurts from when i pulled it yeste...          0\n",
              "1  I have so much to do outside! Been looking at ...          4\n",
              "2  @AbsolutSara Yes, I knew about the clusterfark...          0\n",
              "3  Just woke up and i feel relieved Haha now i ha...          0\n",
              "4  LOVING the hot weather forecast for the rest o...          4"
            ]
          },
          "metadata": {},
          "execution_count": 44
        }
      ]
    },
    {
      "cell_type": "code",
      "metadata": {
        "colab": {
          "base_uri": "https://localhost:8080/"
        },
        "id": "vWqAPvTtyqee",
        "outputId": "0356b735-bd90-4680-8d5b-0dcf53c6d45e"
      },
      "source": [
        "# Split data into train and test sets\n",
        "X = df['Tweet']\n",
        "y = df['Sentiment']\n",
        "X_train, X_test, y_train, y_test = train_test_split(X, y, test_size=0.2)\n",
        "X_train.shape, y_train.shape"
      ],
      "execution_count": 45,
      "outputs": [
        {
          "output_type": "execute_result",
          "data": {
            "text/plain": [
              "((24000,), (24000,))"
            ]
          },
          "metadata": {},
          "execution_count": 45
        }
      ]
    },
    {
      "cell_type": "code",
      "metadata": {
        "id": "VO9qLtR87z_A"
      },
      "source": [
        "# Create pipeline\n",
        "pipeline = Pipeline(\n",
        "    [\n",
        "        ('preprocessor', Preprocessor()),\n",
        "        ('tfidf', TfidfVectorizer()),\n",
        "        ('svc_rbf', SVC(kernel='rbf'))\n",
        "    ],\n",
        "    verbose=True\n",
        ")"
      ],
      "execution_count": 46,
      "outputs": []
    },
    {
      "cell_type": "code",
      "metadata": {
        "colab": {
          "base_uri": "https://localhost:8080/"
        },
        "id": "sHCWPAM-zw9U",
        "outputId": "9cbfddb0-024b-4797-d33f-83841e45148a"
      },
      "source": [
        "# Train model\n",
        "pipeline.fit(X_train, y_train)"
      ],
      "execution_count": 47,
      "outputs": [
        {
          "output_type": "stream",
          "name": "stdout",
          "text": [
            "[Pipeline] ...... (step 1 of 3) Processing preprocessor, total= 4.0min\n",
            "[Pipeline] ............. (step 2 of 3) Processing tfidf, total=   0.4s\n",
            "[Pipeline] ........... (step 3 of 3) Processing svc_rbf, total= 3.6min\n"
          ]
        },
        {
          "output_type": "execute_result",
          "data": {
            "text/plain": [
              "Pipeline(memory=None,\n",
              "         steps=[('preprocessor', Preprocessor()),\n",
              "                ('tfidf',\n",
              "                 TfidfVectorizer(analyzer='word', binary=False,\n",
              "                                 decode_error='strict',\n",
              "                                 dtype=<class 'numpy.float64'>,\n",
              "                                 encoding='utf-8', input='content',\n",
              "                                 lowercase=True, max_df=1.0, max_features=None,\n",
              "                                 min_df=1, ngram_range=(1, 1), norm='l2',\n",
              "                                 preprocessor=None, smooth_idf=True,\n",
              "                                 stop_words=None, strip_accents=None,\n",
              "                                 sublinear_tf=False,\n",
              "                                 token_pattern='(?u)\\\\b\\\\w\\\\w+\\\\b',\n",
              "                                 tokenizer=None, use_idf=True,\n",
              "                                 vocabulary=None)),\n",
              "                ('svc_rbf',\n",
              "                 SVC(C=1.0, break_ties=False, cache_size=200, class_weight=None,\n",
              "                     coef0=0.0, decision_function_shape='ovr', degree=3,\n",
              "                     gamma='scale', kernel='rbf', max_iter=-1,\n",
              "                     probability=False, random_state=None, shrinking=True,\n",
              "                     tol=0.001, verbose=False))],\n",
              "         verbose=True)"
            ]
          },
          "metadata": {},
          "execution_count": 47
        }
      ]
    },
    {
      "cell_type": "code",
      "metadata": {
        "id": "vt3AZ6_z70tr",
        "colab": {
          "base_uri": "https://localhost:8080/"
        },
        "outputId": "06390e8a-0c39-4f4e-a100-3f3bcec4dbc8"
      },
      "source": [
        "# Evaluate model\n",
        "y_pred = pipeline.predict(X_test)\n",
        "print(classification_report(y_test, y_pred))\n",
        "print(\"\\n\\n\")\n",
        "print(confusion_matrix(y_test, y_pred))"
      ],
      "execution_count": 48,
      "outputs": [
        {
          "output_type": "stream",
          "name": "stdout",
          "text": [
            "              precision    recall  f1-score   support\n",
            "\n",
            "           0       0.78      0.77      0.78      3004\n",
            "           4       0.77      0.78      0.78      2996\n",
            "\n",
            "    accuracy                           0.78      6000\n",
            "   macro avg       0.78      0.78      0.78      6000\n",
            "weighted avg       0.78      0.78      0.78      6000\n",
            "\n",
            "\n",
            "\n",
            "\n",
            "[[2326  678]\n",
            " [ 665 2331]]\n"
          ]
        }
      ]
    },
    {
      "cell_type": "code",
      "metadata": {
        "id": "zLba8iKCANPS"
      },
      "source": [
        "def predict(text, pipeline=pipeline):\n",
        "  y_pred = pipeline.predict(pd.Series(text))\n",
        "  if not y_pred:\n",
        "    print('NEGATIVE')\n",
        "  else:\n",
        "    print('POSITIVE')"
      ],
      "execution_count": 50,
      "outputs": []
    },
    {
      "cell_type": "code",
      "metadata": {
        "colab": {
          "base_uri": "https://localhost:8080/"
        },
        "id": "B_2GbX1SAiHe",
        "outputId": "2e8e24eb-5853-4d4e-829b-c1f409edfd6b"
      },
      "source": [
        "predict(\"I feel tired this morning.\")"
      ],
      "execution_count": 51,
      "outputs": [
        {
          "output_type": "stream",
          "name": "stdout",
          "text": [
            "NEGATIVE\n"
          ]
        }
      ]
    },
    {
      "cell_type": "code",
      "metadata": {
        "colab": {
          "base_uri": "https://localhost:8080/"
        },
        "id": "PoBP0XmJA5_-",
        "outputId": "bd55b0ae-1396-4d7d-cc03-7ec1de55d1dc"
      },
      "source": [
        "predict(\"He is my best friend.\")"
      ],
      "execution_count": 52,
      "outputs": [
        {
          "output_type": "stream",
          "name": "stdout",
          "text": [
            "POSITIVE\n"
          ]
        }
      ]
    },
    {
      "cell_type": "code",
      "metadata": {
        "id": "cP_SufxD5f1c",
        "colab": {
          "base_uri": "https://localhost:8080/"
        },
        "outputId": "e7873243-793f-480e-bd53-769ffd192665"
      },
      "source": [
        "# Save pipeline\n",
        "joblib.dump(pipeline, '/content/pipeline.pkl')"
      ],
      "execution_count": 49,
      "outputs": [
        {
          "output_type": "execute_result",
          "data": {
            "text/plain": [
              "['/content/pipeline.pkl']"
            ]
          },
          "metadata": {},
          "execution_count": 49
        }
      ]
    }
  ]
}