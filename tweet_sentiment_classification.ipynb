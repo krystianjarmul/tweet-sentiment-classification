{
  "nbformat": 4,
  "nbformat_minor": 0,
  "metadata": {
    "accelerator": "GPU",
    "colab": {
      "name": "Kopia notatnika sentiment_classification.ipynb",
      "provenance": [],
      "collapsed_sections": [],
      "authorship_tag": "ABX9TyNNsuHCZ6+/BVQeVvddXkR5",
      "include_colab_link": true
    },
    "kernelspec": {
      "display_name": "Python 3",
      "name": "python3"
    },
    "language_info": {
      "name": "python"
    }
  },
  "cells": [
    {
      "cell_type": "markdown",
      "metadata": {
        "id": "view-in-github",
        "colab_type": "text"
      },
      "source": [
        "<a href=\"https://colab.research.google.com/github/krystianjarmul/tweet-sentiment-classification/blob/main/tweet_sentiment_classification.ipynb\" target=\"_parent\"><img src=\"https://colab.research.google.com/assets/colab-badge.svg\" alt=\"Open In Colab\"/></a>"
      ]
    },
    {
      "cell_type": "code",
      "metadata": {
        "colab": {
          "base_uri": "https://localhost:8080/"
        },
        "id": "yhN87d2TxEpx",
        "outputId": "ce7ee2b8-bb1f-4bac-9fda-dddd8ca88f75"
      },
      "source": [
        "# Download data\n",
        "!gdown --id 1BnUfDWvSGooNDgNZFAO54TLllU-WubPE"
      ],
      "execution_count": null,
      "outputs": [
        {
          "output_type": "stream",
          "name": "stdout",
          "text": [
            "Downloading...\n",
            "From: https://drive.google.com/uc?id=1BnUfDWvSGooNDgNZFAO54TLllU-WubPE\n",
            "To: /content/Data_tweets.csv\n",
            "4.30MB [00:00, 16.9MB/s]\n"
          ]
        }
      ]
    },
    {
      "cell_type": "code",
      "metadata": {
        "id": "unENPKXk8QDJ"
      },
      "source": [
        "from __future__ import annotations\n",
        "from string import punctuation\n",
        "import os\n",
        "\n",
        "import numpy as np\n",
        "import pandas as pd\n",
        "import spacy\n",
        "from spacy.lang.en.stop_words import STOP_WORDS\n",
        "from sklearn.model_selection import train_test_split\n",
        "from sklearn.pipeline import Pipeline\n",
        "from sklearn.feature_extraction.text import TfidfVectorizer\n",
        "from sklearn.svm import SVC\n",
        "from sklearn.base import BaseEstimator, TransformerMixin\n",
        "from sklearn.externals import joblib\n",
        "from sklearn.metrics import (\n",
        "    confusion_matrix,\n",
        "    classification_report,\n",
        ")\n",
        "\n",
        "np.random.seed(42)"
      ],
      "execution_count": null,
      "outputs": []
    },
    {
      "cell_type": "code",
      "metadata": {
        "id": "0icuZ5FhzSVR"
      },
      "source": [
        "# Load English pipeline optimized for CPU\n",
        "os.system(\"python -m spacy download en_core_web_sm\")\n",
        "nlp = spacy.load(\"en_core_web_sm\")\n",
        "stopwords = list(STOP_WORDS)"
      ],
      "execution_count": null,
      "outputs": []
    },
    {
      "cell_type": "code",
      "metadata": {
        "id": "i6HIGJarwZhw"
      },
      "source": [
        "class Preprocessor(BaseEstimator, TransformerMixin):\n",
        "    \"\"\"Transformer class for tokenizing and cleaning a data\"\"\"\n",
        "    def fit(self, X: pd.Series, y: pd.Series = None) -> Preprocessor:\n",
        "        return self\n",
        "\n",
        "    def transform(self, X: pd.Series, y: pd.Series = None) -> pd.Series:\n",
        "        X_ = X.copy()\n",
        "        X_ = X_.map(lambda row: self.preprocess(row))\n",
        "        return X_\n",
        "\n",
        "    def preprocess(self, tweet: str) -> str:\n",
        "        doc = nlp(tweet)\n",
        "        tokens = []\n",
        "        for token in doc:\n",
        "            if token.lemma_ != '-PRON-':\n",
        "                new_token = token.lemma_.lower().strip()\n",
        "            else:\n",
        "                new_token = token.lower_\n",
        "            if new_token not in punctuation and new_token not in stopwords:\n",
        "                tokens.append(new_token)\n",
        "        return ' '.join(tokens)"
      ],
      "execution_count": null,
      "outputs": []
    },
    {
      "cell_type": "code",
      "metadata": {
        "colab": {
          "base_uri": "https://localhost:8080/",
          "height": 204
        },
        "id": "8tGHd0hHwkJe",
        "outputId": "a2a5a5f1-851c-4eef-edc5-3bbbf6ace9fd"
      },
      "source": [
        "# Load raw data\n",
        "data = pd.read_csv('/content/Data_tweets.csv', header=None)\n",
        "data.head()"
      ],
      "execution_count": null,
      "outputs": [
        {
          "output_type": "execute_result",
          "data": {
            "text/html": [
              "<div>\n",
              "<style scoped>\n",
              "    .dataframe tbody tr th:only-of-type {\n",
              "        vertical-align: middle;\n",
              "    }\n",
              "\n",
              "    .dataframe tbody tr th {\n",
              "        vertical-align: top;\n",
              "    }\n",
              "\n",
              "    .dataframe thead th {\n",
              "        text-align: right;\n",
              "    }\n",
              "</style>\n",
              "<table border=\"1\" class=\"dataframe\">\n",
              "  <thead>\n",
              "    <tr style=\"text-align: right;\">\n",
              "      <th></th>\n",
              "      <th>0</th>\n",
              "      <th>1</th>\n",
              "      <th>2</th>\n",
              "      <th>3</th>\n",
              "      <th>4</th>\n",
              "      <th>5</th>\n",
              "      <th>6</th>\n",
              "    </tr>\n",
              "  </thead>\n",
              "  <tbody>\n",
              "    <tr>\n",
              "      <th>0</th>\n",
              "      <td>0</td>\n",
              "      <td>0</td>\n",
              "      <td>2068921155</td>\n",
              "      <td>Sun Jun 07 14:56:42 PDT 2009</td>\n",
              "      <td>NO_QUERY</td>\n",
              "      <td>smiley_sophie</td>\n",
              "      <td>my arm still hurts from when i pulled it yeste...</td>\n",
              "    </tr>\n",
              "    <tr>\n",
              "      <th>1</th>\n",
              "      <td>1</td>\n",
              "      <td>4</td>\n",
              "      <td>2065871668</td>\n",
              "      <td>Sun Jun 07 09:27:21 PDT 2009</td>\n",
              "      <td>NO_QUERY</td>\n",
              "      <td>ImmaChocoholic</td>\n",
              "      <td>I have so much to do outside! Been looking at ...</td>\n",
              "    </tr>\n",
              "    <tr>\n",
              "      <th>2</th>\n",
              "      <td>2</td>\n",
              "      <td>0</td>\n",
              "      <td>1835774749</td>\n",
              "      <td>Mon May 18 06:43:27 PDT 2009</td>\n",
              "      <td>NO_QUERY</td>\n",
              "      <td>drmomentum</td>\n",
              "      <td>@AbsolutSara Yes, I knew about the clusterfark...</td>\n",
              "    </tr>\n",
              "    <tr>\n",
              "      <th>3</th>\n",
              "      <td>3</td>\n",
              "      <td>0</td>\n",
              "      <td>1967121891</td>\n",
              "      <td>Fri May 29 19:00:46 PDT 2009</td>\n",
              "      <td>NO_QUERY</td>\n",
              "      <td>sweetsheilx</td>\n",
              "      <td>Just woke up and i feel relieved Haha now i ha...</td>\n",
              "    </tr>\n",
              "    <tr>\n",
              "      <th>4</th>\n",
              "      <td>4</td>\n",
              "      <td>4</td>\n",
              "      <td>1695846172</td>\n",
              "      <td>Mon May 04 07:04:29 PDT 2009</td>\n",
              "      <td>NO_QUERY</td>\n",
              "      <td>monmariej</td>\n",
              "      <td>LOVING the hot weather forecast for the rest o...</td>\n",
              "    </tr>\n",
              "  </tbody>\n",
              "</table>\n",
              "</div>"
            ],
            "text/plain": [
              "   0  1  ...               5                                                  6\n",
              "0  0  0  ...   smiley_sophie  my arm still hurts from when i pulled it yeste...\n",
              "1  1  4  ...  ImmaChocoholic  I have so much to do outside! Been looking at ...\n",
              "2  2  0  ...      drmomentum  @AbsolutSara Yes, I knew about the clusterfark...\n",
              "3  3  0  ...     sweetsheilx  Just woke up and i feel relieved Haha now i ha...\n",
              "4  4  4  ...       monmariej  LOVING the hot weather forecast for the rest o...\n",
              "\n",
              "[5 rows x 7 columns]"
            ]
          },
          "metadata": {},
          "execution_count": 17
        }
      ]
    },
    {
      "cell_type": "code",
      "metadata": {
        "colab": {
          "base_uri": "https://localhost:8080/",
          "height": 204
        },
        "id": "lS28Es6xykwV",
        "outputId": "52acdaef-9839-4a1a-e6ad-194071a55f6b"
      },
      "source": [
        "# Select important columns from raw data and name them\n",
        "data = pd.read_csv('/content/Data_tweets.csv', header=None)\n",
        "df = data[[6, 1]].rename(columns={6: \"Tweet\", 1: \"Sentiment\"})\n",
        "df.head()"
      ],
      "execution_count": null,
      "outputs": [
        {
          "output_type": "execute_result",
          "data": {
            "text/html": [
              "<div>\n",
              "<style scoped>\n",
              "    .dataframe tbody tr th:only-of-type {\n",
              "        vertical-align: middle;\n",
              "    }\n",
              "\n",
              "    .dataframe tbody tr th {\n",
              "        vertical-align: top;\n",
              "    }\n",
              "\n",
              "    .dataframe thead th {\n",
              "        text-align: right;\n",
              "    }\n",
              "</style>\n",
              "<table border=\"1\" class=\"dataframe\">\n",
              "  <thead>\n",
              "    <tr style=\"text-align: right;\">\n",
              "      <th></th>\n",
              "      <th>Tweet</th>\n",
              "      <th>Sentiment</th>\n",
              "    </tr>\n",
              "  </thead>\n",
              "  <tbody>\n",
              "    <tr>\n",
              "      <th>0</th>\n",
              "      <td>my arm still hurts from when i pulled it yeste...</td>\n",
              "      <td>0</td>\n",
              "    </tr>\n",
              "    <tr>\n",
              "      <th>1</th>\n",
              "      <td>I have so much to do outside! Been looking at ...</td>\n",
              "      <td>4</td>\n",
              "    </tr>\n",
              "    <tr>\n",
              "      <th>2</th>\n",
              "      <td>@AbsolutSara Yes, I knew about the clusterfark...</td>\n",
              "      <td>0</td>\n",
              "    </tr>\n",
              "    <tr>\n",
              "      <th>3</th>\n",
              "      <td>Just woke up and i feel relieved Haha now i ha...</td>\n",
              "      <td>0</td>\n",
              "    </tr>\n",
              "    <tr>\n",
              "      <th>4</th>\n",
              "      <td>LOVING the hot weather forecast for the rest o...</td>\n",
              "      <td>4</td>\n",
              "    </tr>\n",
              "  </tbody>\n",
              "</table>\n",
              "</div>"
            ],
            "text/plain": [
              "                                               Tweet  Sentiment\n",
              "0  my arm still hurts from when i pulled it yeste...          0\n",
              "1  I have so much to do outside! Been looking at ...          4\n",
              "2  @AbsolutSara Yes, I knew about the clusterfark...          0\n",
              "3  Just woke up and i feel relieved Haha now i ha...          0\n",
              "4  LOVING the hot weather forecast for the rest o...          4"
            ]
          },
          "metadata": {},
          "execution_count": 18
        }
      ]
    },
    {
      "cell_type": "code",
      "metadata": {
        "colab": {
          "base_uri": "https://localhost:8080/"
        },
        "id": "vWqAPvTtyqee",
        "outputId": "962c8341-9f46-4f82-acae-e21f583a2ed9"
      },
      "source": [
        "# Split data into train and test sets\n",
        "X = df['Tweet']\n",
        "y = df['Sentiment']\n",
        "X_train, X_test, y_train, y_test = train_test_split(X, y, test_size=0.2)\n",
        "X_train.shape, y_train.shape"
      ],
      "execution_count": null,
      "outputs": [
        {
          "output_type": "execute_result",
          "data": {
            "text/plain": [
              "((24000,), (24000,))"
            ]
          },
          "metadata": {},
          "execution_count": 19
        }
      ]
    },
    {
      "cell_type": "code",
      "metadata": {
        "id": "VO9qLtR87z_A"
      },
      "source": [
        "# Create pipeline\n",
        "pipeline = Pipeline(\n",
        "    [\n",
        "        ('preprocessor', Preprocessor()),\n",
        "        ('tfidf', TfidfVectorizer()),\n",
        "        ('svc_rbf', SVC(kernel='rbf'))\n",
        "    ],\n",
        "    verbose=True\n",
        ")"
      ],
      "execution_count": null,
      "outputs": []
    },
    {
      "cell_type": "code",
      "metadata": {
        "id": "sHCWPAM-zw9U"
      },
      "source": [
        "# Train model\n",
        "pipeline.fit(X_train, y_train)"
      ],
      "execution_count": null,
      "outputs": []
    },
    {
      "cell_type": "code",
      "metadata": {
        "id": "vt3AZ6_z70tr"
      },
      "source": [
        "# Evaluate model\n",
        "y_pred = pipeline.predict(X_test)\n",
        "print(classification_report(y_test, y_pred))\n",
        "print(\"\\n\\n\")\n",
        "print(confusion_matrix(y_test, y_pred))"
      ],
      "execution_count": null,
      "outputs": []
    },
    {
      "cell_type": "code",
      "metadata": {
        "id": "cP_SufxD5f1c"
      },
      "source": [
        "# Save pipeline\n",
        "joblib.dump(pipeline, '/content/pipeline.pkl')"
      ],
      "execution_count": null,
      "outputs": []
    },
    {
      "cell_type": "code",
      "metadata": {
        "id": "vqsSk63W0Flw"
      },
      "source": [
        ""
      ],
      "execution_count": null,
      "outputs": []
    }
  ]
}